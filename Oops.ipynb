{
 "cells": [
  {
   "cell_type": "markdown",
   "id": "7ca7290b-674c-44d5-bca7-f26175262c19",
   "metadata": {},
   "source": [
    "### Q1. Explain Class and Object with respect to Object-Oriented Programming. Give a suitable example."
   ]
  },
  {
   "cell_type": "code",
   "execution_count": null,
   "id": "59fd74a1-5107-40dc-939c-269528633046",
   "metadata": {},
   "outputs": [],
   "source": [
    "#  a class is a template definition of the method s and variable s in a particular kind of object . \n",
    "#  An object is an instance of a class which has those properties and behaviours attached. "
   ]
  },
  {
   "cell_type": "code",
   "execution_count": 2,
   "id": "ce95b056-3218-42ef-8f0a-a60bdbd6e6ec",
   "metadata": {},
   "outputs": [],
   "source": [
    "class student:\n",
    "    def __init__(self,name,roll,sec):\n",
    "        self.name=name\n",
    "        self.roll=roll\n",
    "        self.sec=sec\n",
    "        \n",
    "    def get_information(self):\n",
    "        return {'name':self.name,'roll':self.roll,'sec':self.sec}"
   ]
  },
  {
   "cell_type": "code",
   "execution_count": 3,
   "id": "8c976a43-edcb-4984-a125-166484339320",
   "metadata": {},
   "outputs": [],
   "source": [
    "obj_student=student('sounak',34,'c')"
   ]
  },
  {
   "cell_type": "code",
   "execution_count": 4,
   "id": "63cf8f84-9d02-4523-a9c3-1df36a695750",
   "metadata": {},
   "outputs": [
    {
     "data": {
      "text/plain": [
       "{'name': 'sounak', 'roll': 34, 'sec': 'c'}"
      ]
     },
     "execution_count": 4,
     "metadata": {},
     "output_type": "execute_result"
    }
   ],
   "source": [
    "obj_student.get_information()"
   ]
  },
  {
   "cell_type": "markdown",
   "id": "901902a6-cc13-4230-8f6c-1ba6f521c904",
   "metadata": {},
   "source": [
    "### Q2. Name the four pillars of OOPs."
   ]
  },
  {
   "cell_type": "code",
   "execution_count": 5,
   "id": "7fb749ff-29b9-4c6d-bbda-07d448a17254",
   "metadata": {},
   "outputs": [],
   "source": [
    "# # The four pillars for OOP are:\n",
    "# 1. Abstraction\n",
    "\n",
    "# 2. Encapsulation\n",
    "\n",
    "# 3. Inheritance\n",
    "\n",
    "# 4. Polymorphism"
   ]
  },
  {
   "cell_type": "markdown",
   "id": "e5e60da1-7203-4d65-8401-9dbcd01737f6",
   "metadata": {},
   "source": [
    "### Q3. Explain why the __init__() function is used. Give a suitable example."
   ]
  },
  {
   "cell_type": "code",
   "execution_count": 6,
   "id": "e51417b7-855d-4bc0-8c87-7e8eaffda461",
   "metadata": {},
   "outputs": [],
   "source": [
    "# The __init__ method lets the class initialize the object's attributes"
   ]
  },
  {
   "cell_type": "code",
   "execution_count": 8,
   "id": "6cd867e6-c4da-448d-b126-2a8f31f6655e",
   "metadata": {},
   "outputs": [],
   "source": [
    "class pwskills:\n",
    "    def __init__(self,phone_number,email_id,student_id):\n",
    "        self.phone_number=phone_number\n",
    "        self.email_id=email_id\n",
    "        self.student_id=student_id"
   ]
  },
  {
   "cell_type": "code",
   "execution_count": 9,
   "id": "44159ae4-9650-4f39-9d9d-5c0aca32ccbb",
   "metadata": {},
   "outputs": [],
   "source": [
    "anik=pwskills(1234,'anik@gmail.com',108)"
   ]
  },
  {
   "cell_type": "code",
   "execution_count": 10,
   "id": "855234d6-305c-413b-bf00-61c30dba7868",
   "metadata": {},
   "outputs": [
    {
     "data": {
      "text/plain": [
       "'anik@gmail.com'"
      ]
     },
     "execution_count": 10,
     "metadata": {},
     "output_type": "execute_result"
    }
   ],
   "source": [
    "anik.email_id"
   ]
  },
  {
   "cell_type": "markdown",
   "id": "d9ec1078-e5bb-4f64-969d-25574d034b53",
   "metadata": {},
   "source": [
    "### Q4. Why self is used in OOPs?"
   ]
  },
  {
   "cell_type": "code",
   "execution_count": 11,
   "id": "77e699dd-8d5e-4707-9e1e-360c7d9390b0",
   "metadata": {},
   "outputs": [],
   "source": [
    "# self represents the instance of the class. By using the “self”  we can access the attributes and methods of the class in python. It binds the attributes with the given arguments."
   ]
  },
  {
   "cell_type": "markdown",
   "id": "87ee12bc-826b-477a-bbfa-b35cc6c719b6",
   "metadata": {},
   "source": [
    "### Q5. What is inheritance? Give an example for each type of inheritance."
   ]
  },
  {
   "cell_type": "code",
   "execution_count": null,
   "id": "a14a2f68-3fbc-4294-8620-1bb2e113e6c1",
   "metadata": {},
   "outputs": [],
   "source": []
  }
 ],
 "metadata": {
  "kernelspec": {
   "display_name": "Python 3 (ipykernel)",
   "language": "python",
   "name": "python3"
  },
  "language_info": {
   "codemirror_mode": {
    "name": "ipython",
    "version": 3
   },
   "file_extension": ".py",
   "mimetype": "text/x-python",
   "name": "python",
   "nbconvert_exporter": "python",
   "pygments_lexer": "ipython3",
   "version": "3.10.8"
  }
 },
 "nbformat": 4,
 "nbformat_minor": 5
}
