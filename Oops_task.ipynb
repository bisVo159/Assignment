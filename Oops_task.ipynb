{
 "cells": [
  {
   "cell_type": "markdown",
   "id": "53455141-20c2-4b9f-85a7-7c740124456b",
   "metadata": {},
   "source": [
    "### Q1, Create a vehicle class with an init method having instance variables as name_of_vehicle, max_speed\n",
    "### and average_of_vehicle."
   ]
  },
  {
   "cell_type": "code",
   "execution_count": 30,
   "id": "0912b46c-bb73-46fe-8a85-21ff5b8e245e",
   "metadata": {},
   "outputs": [],
   "source": [
    "class vehicle:\n",
    "    def __init__(self,name_of_vehicle,max_speed,average_of_vehicle):\n",
    "        self.name_of_vehicle=name_of_vehicle\n",
    "        self.max_speed=max_speed\n",
    "        self.average_of_vehicle=average_of_vehicle"
   ]
  },
  {
   "cell_type": "code",
   "execution_count": 35,
   "id": "49215c72-4339-48f4-b0af-20a32567df6e",
   "metadata": {},
   "outputs": [],
   "source": [
    "car1=vehicle('toyota','180 km/h',5)"
   ]
  },
  {
   "cell_type": "code",
   "execution_count": 36,
   "id": "4cd98dc5-f618-4159-abbd-8932efd9cc71",
   "metadata": {},
   "outputs": [
    {
     "data": {
      "text/plain": [
       "'toyota'"
      ]
     },
     "execution_count": 36,
     "metadata": {},
     "output_type": "execute_result"
    }
   ],
   "source": [
    "car1.name_of_vehicle"
   ]
  },
  {
   "cell_type": "code",
   "execution_count": 37,
   "id": "66584947-25ec-4cab-81ba-3f7321e59bd9",
   "metadata": {},
   "outputs": [
    {
     "data": {
      "text/plain": [
       "'180 km/h'"
      ]
     },
     "execution_count": 37,
     "metadata": {},
     "output_type": "execute_result"
    }
   ],
   "source": [
    "car1.max_speed"
   ]
  },
  {
   "cell_type": "markdown",
   "id": "80ce3c6e-10e6-47d2-9eed-041b79d8df46",
   "metadata": {},
   "source": [
    "### Q2. Create a child class car from the vehicle class created in Que 1, which will inherit the vehicle class.\n",
    "### Create a method named seating_capacity which takes capacity as an argument and returns the name of\n",
    "### the vehicle and its seating capacity."
   ]
  },
  {
   "cell_type": "code",
   "execution_count": 39,
   "id": "8c329bff-3308-4428-b0ec-100f1529a5d0",
   "metadata": {},
   "outputs": [],
   "source": [
    "class car(vehicle):\n",
    "    def seating_capacity(self,capacity):\n",
    "        self.capacity=capacity\n",
    "        return self.capacity,self.name_of_vehicle"
   ]
  },
  {
   "cell_type": "code",
   "execution_count": 41,
   "id": "6f6686d5-eda5-4507-9ea3-5bdf2b8483a0",
   "metadata": {},
   "outputs": [
    {
     "data": {
      "text/plain": [
       "(4, 'innova')"
      ]
     },
     "execution_count": 41,
     "metadata": {},
     "output_type": "execute_result"
    }
   ],
   "source": [
    "car2=car('innova',120,3)\n",
    "car2.seating_capacity(4)"
   ]
  },
  {
   "cell_type": "markdown",
   "id": "14b0f313-6183-4ccc-8e0d-68e93046ccf6",
   "metadata": {},
   "source": [
    "### Q3. What is multiple inheritance? Write a python code to demonstrate multiple inheritance."
   ]
  },
  {
   "cell_type": "code",
   "execution_count": null,
   "id": "4b5fe917-cad3-440c-baff-9795491157f7",
   "metadata": {},
   "outputs": [],
   "source": [
    "Deriving a class from more than one direct base class is called multiple inheritance."
   ]
  },
  {
   "cell_type": "code",
   "execution_count": 42,
   "id": "487f0e78-f5c2-45fa-ad32-4de38dc53fed",
   "metadata": {},
   "outputs": [],
   "source": [
    "class class1:\n",
    "    def test_class1(self):\n",
    "        print('This is my class1')"
   ]
  },
  {
   "cell_type": "code",
   "execution_count": 43,
   "id": "a0c0d082-fda8-42c4-9880-b14fbc578fc1",
   "metadata": {},
   "outputs": [],
   "source": [
    "class class2:\n",
    "    def test_class2(self):\n",
    "        print('This is my class2')"
   ]
  },
  {
   "cell_type": "code",
   "execution_count": 44,
   "id": "dffe633a-c50d-4ea4-a1ff-02bac7c1ad51",
   "metadata": {},
   "outputs": [],
   "source": [
    "class class3(class1,class2):\n",
    "    pass"
   ]
  },
  {
   "cell_type": "code",
   "execution_count": 45,
   "id": "44ea464a-497d-4abf-9817-771d3074325c",
   "metadata": {},
   "outputs": [],
   "source": [
    "obj_class3=class3()"
   ]
  },
  {
   "cell_type": "code",
   "execution_count": 46,
   "id": "c6a1af00-14a9-468a-953f-9e199e9cafb9",
   "metadata": {},
   "outputs": [
    {
     "name": "stdout",
     "output_type": "stream",
     "text": [
      "This is my class1\n"
     ]
    }
   ],
   "source": [
    "obj_class3.test_class1()"
   ]
  },
  {
   "cell_type": "markdown",
   "id": "20a13ed9-855e-4faf-b880-055131106e61",
   "metadata": {},
   "source": [
    "### Q4. What are getter and setter in python? Create a class and create a getter and a setter method in this\n",
    "### class."
   ]
  },
  {
   "cell_type": "code",
   "execution_count": null,
   "id": "02c15922-acf6-497e-845b-fcf1898d3d51",
   "metadata": {},
   "outputs": [],
   "source": [
    "getter are the methods used in Object-Oriented Programming (OOPS) which helps to access the private attributes from a class.\n",
    "setter are the methods used in OOPS feature which helps to set the value to private attributes in a class."
   ]
  },
  {
   "cell_type": "code",
   "execution_count": 47,
   "id": "5d4d904d-1900-4805-9883-69f5941a0f6e",
   "metadata": {},
   "outputs": [],
   "source": [
    "class car:\n",
    "    def __init__(self,year,make,model,speed):\n",
    "        self.__year=year\n",
    "        self.__make=make\n",
    "        self.__model=model\n",
    "        self.__speed=0\n",
    "        \n",
    "    def set_speed(self,speed):\n",
    "        self.__speed=0 if speed<0 else speed\n",
    "        \n",
    "    def get_speed(self):\n",
    "        return self.__speed"
   ]
  },
  {
   "cell_type": "code",
   "execution_count": 48,
   "id": "1bd5b04d-4727-4a97-acea-07a4893961d5",
   "metadata": {},
   "outputs": [],
   "source": [
    "obj_car=car(2021,'toyota','innova',12)"
   ]
  },
  {
   "cell_type": "code",
   "execution_count": 49,
   "id": "abe46fa0-107f-43e3-9c94-26e51eba9f65",
   "metadata": {},
   "outputs": [],
   "source": [
    "obj_car.set_speed(1234)"
   ]
  },
  {
   "cell_type": "code",
   "execution_count": 50,
   "id": "6fef725e-b432-4e3a-bca5-dcb8a8e6d0ea",
   "metadata": {},
   "outputs": [
    {
     "data": {
      "text/plain": [
       "1234"
      ]
     },
     "execution_count": 50,
     "metadata": {},
     "output_type": "execute_result"
    }
   ],
   "source": [
    "obj_car.get_speed()"
   ]
  },
  {
   "cell_type": "markdown",
   "id": "f283b946-6b3b-40e3-b296-aa442fbb5164",
   "metadata": {},
   "source": [
    "### Q5.What is method overriding in python? Write a python code to demonstrate method overriding."
   ]
  },
  {
   "cell_type": "code",
   "execution_count": null,
   "id": "02b8b7b0-d4f0-436b-86bd-ec8d1b36d37b",
   "metadata": {},
   "outputs": [],
   "source": [
    "Method overriding is an ability of any object-oriented programming language that allows a subclass or child class to provide \n",
    "a specific implementation of a method that is already provided by one of its super-classes or parent classes."
   ]
  },
  {
   "cell_type": "code",
   "execution_count": 69,
   "id": "a8fdfd46-8024-49f6-8d68-5dc7a40833d6",
   "metadata": {},
   "outputs": [],
   "source": [
    "class school:\n",
    "    def __init__(self):\n",
    "        self.student=1000"
   ]
  },
  {
   "cell_type": "code",
   "execution_count": 70,
   "id": "5f51d510-37b1-43f6-8d21-cafb6dc44eb6",
   "metadata": {},
   "outputs": [],
   "source": [
    "class classroom(school):\n",
    "    def __init__(self):\n",
    "        self.student=100"
   ]
  },
  {
   "cell_type": "code",
   "execution_count": 65,
   "id": "d20d61d1-b30d-45ac-91d3-b5ea7613cfcb",
   "metadata": {},
   "outputs": [],
   "source": [
    "obj1=school(1000)"
   ]
  },
  {
   "cell_type": "code",
   "execution_count": 66,
   "id": "c4cd6c33-ac2d-4781-a4b1-fc178fd17970",
   "metadata": {},
   "outputs": [],
   "source": [
    "obj2=classroom(1000,100)"
   ]
  },
  {
   "cell_type": "code",
   "execution_count": 67,
   "id": "a330aa47-ebdc-4fd0-839c-985102bc9e37",
   "metadata": {},
   "outputs": [
    {
     "data": {
      "text/plain": [
       "1000"
      ]
     },
     "execution_count": 67,
     "metadata": {},
     "output_type": "execute_result"
    }
   ],
   "source": [
    "obj1.student"
   ]
  },
  {
   "cell_type": "code",
   "execution_count": 68,
   "id": "e152094d-4c32-492d-a79d-8fd0aee7ed67",
   "metadata": {},
   "outputs": [
    {
     "data": {
      "text/plain": [
       "1000"
      ]
     },
     "execution_count": 68,
     "metadata": {},
     "output_type": "execute_result"
    }
   ],
   "source": [
    "obj2.student"
   ]
  },
  {
   "cell_type": "code",
   "execution_count": null,
   "id": "104f1cb6-13fb-4d2e-b496-38425e8503cb",
   "metadata": {},
   "outputs": [],
   "source": []
  }
 ],
 "metadata": {
  "kernelspec": {
   "display_name": "Python 3 (ipykernel)",
   "language": "python",
   "name": "python3"
  },
  "language_info": {
   "codemirror_mode": {
    "name": "ipython",
    "version": 3
   },
   "file_extension": ".py",
   "mimetype": "text/x-python",
   "name": "python",
   "nbconvert_exporter": "python",
   "pygments_lexer": "ipython3",
   "version": "3.10.8"
  }
 },
 "nbformat": 4,
 "nbformat_minor": 5
}
