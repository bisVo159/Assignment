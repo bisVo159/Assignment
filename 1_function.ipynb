{
 "cells": [
  {
   "cell_type": "markdown",
   "id": "b45a632f-be6a-4d16-a7c4-2fcbdf548203",
   "metadata": {},
   "source": [
    "### Q1. Which keyword is used to create a function? Create a function to return a list of odd numbers in the\n",
    "range of 1 to 25."
   ]
  },
  {
   "cell_type": "code",
   "execution_count": 1,
   "id": "c31dd208-1d18-4b91-bd17-e20060c925eb",
   "metadata": {},
   "outputs": [],
   "source": [
    "# def keyword is used to create a function"
   ]
  },
  {
   "cell_type": "code",
   "execution_count": 2,
   "id": "e6e30c15-3bf7-4c0e-b6db-b52ca0e92ddf",
   "metadata": {},
   "outputs": [],
   "source": [
    "def func_odd():\n",
    "    l=[]\n",
    "    for i in range(1,26):\n",
    "        if i%2!=0:\n",
    "            l.append(i)\n",
    "    return l"
   ]
  },
  {
   "cell_type": "code",
   "execution_count": 3,
   "id": "2cdf5bc6-933a-49d1-8d5f-2b3124313fa1",
   "metadata": {},
   "outputs": [
    {
     "data": {
      "text/plain": [
       "[1, 3, 5, 7, 9, 11, 13, 15, 17, 19, 21, 23, 25]"
      ]
     },
     "execution_count": 3,
     "metadata": {},
     "output_type": "execute_result"
    }
   ],
   "source": [
    "func_odd()"
   ]
  },
  {
   "cell_type": "markdown",
   "id": "ca08b4fb-2e23-4afb-a06c-85dbc55fb661",
   "metadata": {},
   "source": [
    "### Q2. Why *args and **kwargs is used in some functions? Create a function each for *args and **kwargs to\n",
    "### demonstrate their use."
   ]
  },
  {
   "cell_type": "code",
   "execution_count": 7,
   "id": "a8d39514-047b-488c-b477-bcd016fbe975",
   "metadata": {},
   "outputs": [],
   "source": [
    "# *args is used to take input multiple input arguments and return a tuple **kwargs is used to return a dictionary"
   ]
  },
  {
   "cell_type": "code",
   "execution_count": 5,
   "id": "78a1567c-d5dd-45ec-bc9e-4c75e76747d7",
   "metadata": {},
   "outputs": [],
   "source": [
    "def test(*args):\n",
    "    l=[]\n",
    "    for i in args:\n",
    "        if type(i)==list:\n",
    "            l.append(i)\n",
    "    return l"
   ]
  },
  {
   "cell_type": "code",
   "execution_count": 6,
   "id": "e6c87f03-96df-4b13-981e-88ee12768aef",
   "metadata": {},
   "outputs": [
    {
     "data": {
      "text/plain": [
       "[[1, 2, 3, 4], [4, 5, 6], [6, 7, 8]]"
      ]
     },
     "execution_count": 6,
     "metadata": {},
     "output_type": "execute_result"
    }
   ],
   "source": [
    "test(1,2,3,[1,2,3,4],(1,2,3,4),'anik',[4,5,6],[6,7,8])"
   ]
  },
  {
   "cell_type": "code",
   "execution_count": 8,
   "id": "ce95dbb0-dd78-444b-b584-4a451016fa42",
   "metadata": {},
   "outputs": [],
   "source": [
    "def test1(**kwargs):\n",
    "   for i in kwargs.keys():\n",
    "        if type(kwargs[i])==list:\n",
    "            return i,kwargs[i]"
   ]
  },
  {
   "cell_type": "code",
   "execution_count": 10,
   "id": "06327117-d187-4f4a-9e41-f5e965680aca",
   "metadata": {},
   "outputs": [
    {
     "data": {
      "text/plain": [
       "('c', [1, 2, 3, 4])"
      ]
     },
     "execution_count": 10,
     "metadata": {},
     "output_type": "execute_result"
    }
   ],
   "source": [
    "test1(a=34,b=23,c=[1,2,3,4],d=('anik','pwSkills'))"
   ]
  },
  {
   "cell_type": "markdown",
   "id": "805d84c9-12b8-496e-b43c-f3c5435b916d",
   "metadata": {},
   "source": [
    "### Q3. What is an iterator in python? Name the method used to initialise the iterator object and the method\n",
    "### used for iteration. Use these methods to print the first five elements of the given list [2, 4, 6, 8, 10, 12, 14, 16,\n",
    "### 18, 20]."
   ]
  },
  {
   "cell_type": "code",
   "execution_count": 11,
   "id": "143e2ca2-57e7-4b3d-895a-0e74d7d148cb",
   "metadata": {},
   "outputs": [],
   "source": [
    "# An Iterator is an object that can be used to loop through collections, like ArrayList and HashSet.\n",
    "# The iterator object is initialized using the iter() method. It uses the next() method for iteration."
   ]
  },
  {
   "cell_type": "code",
   "execution_count": 12,
   "id": "e3a89b94-494f-4485-aeea-b28ae5db89a6",
   "metadata": {},
   "outputs": [
    {
     "name": "stdout",
     "output_type": "stream",
     "text": [
      "2\n",
      "4\n",
      "6\n",
      "8\n",
      "10\n"
     ]
    }
   ],
   "source": [
    "l=iter([2,4,6,8,10,12,14,16,18,20])\n",
    "print(next(l))\n",
    "print(next(l))\n",
    "print(next(l))\n",
    "print(next(l))\n",
    "print(next(l))"
   ]
  },
  {
   "cell_type": "markdown",
   "id": "89975d5a-31dd-4f39-9a87-df35929c63b1",
   "metadata": {},
   "source": [
    "### Q4. What is a generator function in python? Why yield keyword is used? Give an example of a generator\n",
    "### function."
   ]
  },
  {
   "cell_type": "code",
   "execution_count": 13,
   "id": "c8b6c236-5f64-4920-9ebe-309829d9c75c",
   "metadata": {},
   "outputs": [],
   "source": [
    "# A generator-function is defined like a normal function, but whenever it needs to generate a value, it does so with the yield keyword rather than return."
   ]
  },
  {
   "cell_type": "code",
   "execution_count": 14,
   "id": "857831b6-a1c3-44f9-bb31-521b139b6f1c",
   "metadata": {},
   "outputs": [],
   "source": [
    "# yield in Python can be used like the return statement in a function, the function instead of returning the output, it returns a generator that can be iterated upon."
   ]
  },
  {
   "cell_type": "code",
   "execution_count": 15,
   "id": "915ce80c-12be-4e02-81b3-6e82fba2ef88",
   "metadata": {},
   "outputs": [],
   "source": [
    "def func(a):\n",
    "    for i in a:\n",
    "        if len(i)==5:\n",
    "            yield i"
   ]
  },
  {
   "cell_type": "code",
   "execution_count": 16,
   "id": "5a1990b7-75cb-49a5-ac81-74c44b8b210b",
   "metadata": {},
   "outputs": [],
   "source": [
    "l=['sayak','biswas','anika','dip']"
   ]
  },
  {
   "cell_type": "code",
   "execution_count": 17,
   "id": "30ae55fd-c9d3-42aa-8d2b-372eed29f70b",
   "metadata": {},
   "outputs": [
    {
     "name": "stdout",
     "output_type": "stream",
     "text": [
      "sayak\n",
      "anika\n"
     ]
    }
   ],
   "source": [
    "for i in func(l):\n",
    "    print(i)"
   ]
  },
  {
   "cell_type": "markdown",
   "id": "11308b98-8fb8-46c6-823b-ba67267c683e",
   "metadata": {},
   "source": [
    "### Q5. Create a generator function for prime numbers less than 1000. Use the next() method to print the\n",
    "### first 20 prime numbers."
   ]
  },
  {
   "cell_type": "code",
   "execution_count": 15,
   "id": "8ec8849e-2caf-4e05-917d-dc966101ebd8",
   "metadata": {},
   "outputs": [],
   "source": [
    "import math\n",
    "def prime_no():\n",
    "    for i in range(1,1000):\n",
    "        if i>1:\n",
    "            for j in range(2,i):\n",
    "                if i%j==0:\n",
    "                    break\n",
    "            else:\n",
    "                y"
   ]
  },
  {
   "cell_type": "code",
   "execution_count": 16,
   "id": "a309a2d9-7312-4300-b714-48aefca97703",
   "metadata": {},
   "outputs": [
    {
     "name": "stdout",
     "output_type": "stream",
     "text": [
      "2\n",
      "3\n",
      "5\n",
      "7\n",
      "11\n",
      "13\n",
      "17\n",
      "19\n",
      "23\n",
      "29\n",
      "31\n",
      "37\n",
      "41\n",
      "43\n",
      "47\n",
      "53\n",
      "59\n",
      "61\n",
      "67\n",
      "71\n",
      "73\n",
      "79\n",
      "83\n",
      "89\n",
      "97\n",
      "101\n",
      "103\n",
      "107\n",
      "109\n",
      "113\n",
      "127\n",
      "131\n",
      "137\n",
      "139\n",
      "149\n",
      "151\n",
      "157\n",
      "163\n",
      "167\n",
      "173\n",
      "179\n",
      "181\n",
      "191\n",
      "193\n",
      "197\n",
      "199\n",
      "211\n",
      "223\n",
      "227\n",
      "229\n",
      "233\n",
      "239\n",
      "241\n",
      "251\n",
      "257\n",
      "263\n",
      "269\n",
      "271\n",
      "277\n",
      "281\n",
      "283\n",
      "293\n",
      "307\n",
      "311\n",
      "313\n",
      "317\n",
      "331\n",
      "337\n",
      "347\n",
      "349\n",
      "353\n",
      "359\n",
      "367\n",
      "373\n",
      "379\n",
      "383\n",
      "389\n",
      "397\n",
      "401\n",
      "409\n",
      "419\n",
      "421\n",
      "431\n",
      "433\n",
      "439\n",
      "443\n",
      "449\n",
      "457\n",
      "461\n",
      "463\n",
      "467\n",
      "479\n",
      "487\n",
      "491\n",
      "499\n",
      "503\n",
      "509\n",
      "521\n",
      "523\n",
      "541\n",
      "547\n",
      "557\n",
      "563\n",
      "569\n",
      "571\n",
      "577\n",
      "587\n",
      "593\n",
      "599\n",
      "601\n",
      "607\n",
      "613\n",
      "617\n",
      "619\n",
      "631\n",
      "641\n",
      "643\n",
      "647\n",
      "653\n",
      "659\n",
      "661\n",
      "673\n",
      "677\n",
      "683\n",
      "691\n",
      "701\n",
      "709\n",
      "719\n",
      "727\n",
      "733\n",
      "739\n",
      "743\n",
      "751\n",
      "757\n",
      "761\n",
      "769\n",
      "773\n",
      "787\n",
      "797\n",
      "809\n",
      "811\n",
      "821\n",
      "823\n",
      "827\n",
      "829\n",
      "839\n",
      "853\n",
      "857\n",
      "859\n",
      "863\n",
      "877\n",
      "881\n",
      "883\n",
      "887\n",
      "907\n",
      "911\n",
      "919\n",
      "929\n",
      "937\n",
      "941\n",
      "947\n",
      "953\n",
      "967\n",
      "971\n",
      "977\n",
      "983\n",
      "991\n",
      "997\n"
     ]
    }
   ],
   "source": [
    "prime_no()\n",
    "# for i in range(20):\n",
    "#     print(next(x))"
   ]
  },
  {
   "cell_type": "code",
   "execution_count": null,
   "id": "2ad7dd92-5aa0-4ba4-89cd-97e7bdf13228",
   "metadata": {},
   "outputs": [],
   "source": []
  }
 ],
 "metadata": {
  "kernelspec": {
   "display_name": "Python 3 (ipykernel)",
   "language": "python",
   "name": "python3"
  },
  "language_info": {
   "codemirror_mode": {
    "name": "ipython",
    "version": 3
   },
   "file_extension": ".py",
   "mimetype": "text/x-python",
   "name": "python",
   "nbconvert_exporter": "python",
   "pygments_lexer": "ipython3",
   "version": "3.10.8"
  }
 },
 "nbformat": 4,
 "nbformat_minor": 5
}
