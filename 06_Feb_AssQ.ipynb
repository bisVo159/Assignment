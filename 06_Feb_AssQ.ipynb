{
 "cells": [
  {
   "cell_type": "markdown",
   "id": "10fa8ef7-d701-4f07-9e6f-6084c0c99f91",
   "metadata": {},
   "source": [
    "### Q1. Create a function which will take a list as an argument and return the product of all the numbers\n",
    "### after creating a flat list.\n",
    "### Use the below-given list as an argument for your function.\n",
    "### list1 = [1,2,3,4, [44,55,66, True], False, (34,56,78,89,34), {1,2,3,3,2,1}, {1:34, \"key2\": [55, 67, 78, 89], 4: (45,\n",
    "### 22, 61, 34)}, [56, 'data science'], 'Machine Learning']"
   ]
  },
  {
   "cell_type": "code",
   "execution_count": 4,
   "id": "380ae215-5dfc-4430-a661-cd35ce741569",
   "metadata": {},
   "outputs": [],
   "source": [
    "list1 = [1,2,3,4, [44,55,66, True], False, (34,56,78,89,34), {1,2,3,3,2,1}, {1:34, \"key2\": [55, 67, 78, 89], 4: (45,22, 61, 34)}, [56, 'data science'], 'Machine Learning']"
   ]
  },
  {
   "cell_type": "code",
   "execution_count": 12,
   "id": "69517fe2-70b9-4db8-89d5-dd71419f91d3",
   "metadata": {},
   "outputs": [],
   "source": [
    "def func(a):\n",
    "    l=[]\n",
    "    for i in a:\n",
    "        if type(i)==list or type(i)==set or type(i)==tuple:\n",
    "            for j in i:\n",
    "                if type(j)==int:\n",
    "                    l.append(j)\n",
    "        elif type(i)==dict:\n",
    "            for j in i.keys():\n",
    "                if type(j)==int:\n",
    "                    l.append(j)\n",
    "            for j in i.values():\n",
    "                 if type(j)==int:\n",
    "                    l.append(j)\n",
    "                 elif type(j)==list or type(j)==set or type(j)==tuple:\n",
    "                    for k in j:\n",
    "                        if type(k)==int:\n",
    "                            l.append(k)\n",
    "        elif type(i)==int:\n",
    "            l.append(i)\n",
    "    return l"
   ]
  },
  {
   "cell_type": "code",
   "execution_count": 19,
   "id": "54057e89-a246-4424-b7bd-d43362d08dda",
   "metadata": {},
   "outputs": [],
   "source": [
    "def pdt(l):\n",
    "    x=1\n",
    "    for i in l:\n",
    "        x=x*i\n",
    "    return x"
   ]
  },
  {
   "cell_type": "code",
   "execution_count": 20,
   "id": "5118d869-eb65-45c6-9f07-ec5b4e10cced",
   "metadata": {},
   "outputs": [
    {
     "name": "stdout",
     "output_type": "stream",
     "text": [
      "4134711838987085478833841242112000\n"
     ]
    }
   ],
   "source": [
    "print(pdt(func(list1)))"
   ]
  },
  {
   "cell_type": "markdown",
   "id": "71d42d44-f4bf-4f7f-a178-ff7950981f13",
   "metadata": {},
   "source": [
    "### Q2. Write a python program for encrypting a message sent to you by your friend. The logic of encryption\n",
    "### should be such that, for a the output should be z. For b, the output should be y. For c, the output should\n",
    "### be x respectively. Also, the whitespace should be replaced with a dollar sign. Keep the punctuation\n",
    "### marks unchanged.\n",
    "### Input Sentence: I want to become a Data Scientist.\n",
    "### Encrypt the above input sentence using the program you just created.\n",
    "### Note: Convert the given input sentence into lowercase before encrypting. The final output should be\n",
    "### lowercase."
   ]
  },
  {
   "cell_type": "code",
   "execution_count": 25,
   "id": "65b18bda-09ca-463b-97fb-bc11c9da7c7c",
   "metadata": {},
   "outputs": [],
   "source": [
    "def encrypt(s):\n",
    "    str=''\n",
    "    for i in s:\n",
    "        if i=='a':\n",
    "            str=str+'z'\n",
    "        elif i=='b':\n",
    "            str=str+'y'\n",
    "        elif i=='c':\n",
    "            str=str+'x'\n",
    "        elif i.isspace():\n",
    "            str=str+'$'\n",
    "        else:\n",
    "            str=str+i\n",
    "    return str"
   ]
  },
  {
   "cell_type": "code",
   "execution_count": 26,
   "id": "50b4e37a-2aab-4e98-8131-8a2e490ac266",
   "metadata": {},
   "outputs": [
    {
     "name": "stdout",
     "output_type": "stream",
     "text": [
      "i$wznt$to$yexome$z$dztz$sxientist\n"
     ]
    }
   ],
   "source": [
    "s='I want to become a Data Scientist'\n",
    "str=s.lower()\n",
    "print(encrypt(str))"
   ]
  },
  {
   "cell_type": "code",
   "execution_count": null,
   "id": "e5b1b78d-15d9-4108-9b92-05820b491e30",
   "metadata": {},
   "outputs": [],
   "source": []
  }
 ],
 "metadata": {
  "kernelspec": {
   "display_name": "Python 3 (ipykernel)",
   "language": "python",
   "name": "python3"
  },
  "language_info": {
   "codemirror_mode": {
    "name": "ipython",
    "version": 3
   },
   "file_extension": ".py",
   "mimetype": "text/x-python",
   "name": "python",
   "nbconvert_exporter": "python",
   "pygments_lexer": "ipython3",
   "version": "3.10.8"
  }
 },
 "nbformat": 4,
 "nbformat_minor": 5
}
